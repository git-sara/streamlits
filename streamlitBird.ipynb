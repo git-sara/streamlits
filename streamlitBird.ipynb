{
 "cells": [
  {
   "cell_type": "code",
   "execution_count": 2,
   "id": "504e6e68",
   "metadata": {},
   "outputs": [],
   "source": [
    "import streamlit as st\n",
    "import pandas as pd\n",
    "import joblib\n",
    "\n",
    "# Title\n",
    "st.header(\"Streamlit Machine Learning App\")\n",
    "\n",
    "# Input bar 1\n",
    "LengthRange = st.number_input(\"Enter LengthRange\")\n",
    "\n",
    "# Input bar 2\n",
    "BodyMassRange = st.number_input(\"Enter BodyMassRange\")\n",
    "\n",
    "# Input bar 2\n",
    "WingSpanRange = st.number_input(\"Enter WingSpanRange\")\n",
    "\n",
    "\n",
    "# If button is pressed\n",
    "if st.button(\"Submit\"):\n",
    "    \n",
    "    # Unpickle classifier\n",
    "    model = joblib.load(\"model.pkl\")\n",
    "    \n",
    "    # Store inputs into dataframe\n",
    "    X = pd.DataFrame([[LengthRange, BodyMassRange, WingSpanRange]], \n",
    "                     columns = [\"LengthRange\", \"BodyMassRange\", \"WingSpanRange\"])\n",
    "   \n",
    "    \n",
    "    # Get prediction\n",
    "    prediction = model.predict(X)[0]\n",
    "    \n",
    "    # Output prediction\n",
    "    st.text(f\"This instance is a {prediction}\")"
   ]
  },
  {
   "cell_type": "code",
   "execution_count": null,
   "id": "5a1210fc",
   "metadata": {},
   "outputs": [],
   "source": []
  }
 ],
 "metadata": {
  "kernelspec": {
   "display_name": "Python 3 (ipykernel)",
   "language": "python",
   "name": "python3"
  },
  "language_info": {
   "codemirror_mode": {
    "name": "ipython",
    "version": 3
   },
   "file_extension": ".py",
   "mimetype": "text/x-python",
   "name": "python",
   "nbconvert_exporter": "python",
   "pygments_lexer": "ipython3",
   "version": "3.9.7"
  }
 },
 "nbformat": 4,
 "nbformat_minor": 5
}
